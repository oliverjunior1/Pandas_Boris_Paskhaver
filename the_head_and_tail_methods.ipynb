{
 "cells": [
  {
   "cell_type": "markdown",
   "id": "eef0e96e-727d-4daf-bd62-6b3b0df098dd",
   "metadata": {},
   "source": [
    "## The head and tail Methods\n",
    "- The _head_ method returns a number of rows from the top/beginning of the _Series_.\n",
    "- The _tail_ returns a number of rows from the bottom/end of the _Series_."
   ]
  },
  {
   "cell_type": "code",
   "execution_count": 4,
   "id": "b6f5d0ee-8428-4435-990e-7498a30b1e67",
   "metadata": {},
   "outputs": [],
   "source": [
    "import pandas as pd"
   ]
  },
  {
   "cell_type": "code",
   "execution_count": null,
   "id": "1383112d-a82a-4cff-b93f-e2022c45627b",
   "metadata": {},
   "outputs": [],
   "source": [
    "pokemon = pd.read_csv('pokemon.csv', usecols('Name')).squeeze('columns')\n",
    "pokemon2 = pd.read_csv('Pokemon (2).csv')"
   ]
  }
 ],
 "metadata": {
  "kernelspec": {
   "display_name": "Python 3 (ipykernel)",
   "language": "python",
   "name": "python3"
  },
  "language_info": {
   "codemirror_mode": {
    "name": "ipython",
    "version": 3
   },
   "file_extension": ".py",
   "mimetype": "text/x-python",
   "name": "python",
   "nbconvert_exporter": "python",
   "pygments_lexer": "ipython3",
   "version": "3.12.7"
  }
 },
 "nbformat": 4,
 "nbformat_minor": 5
}
