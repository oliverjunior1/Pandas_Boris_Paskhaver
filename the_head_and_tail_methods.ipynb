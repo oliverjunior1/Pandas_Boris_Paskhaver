{
 "cells": [
  {
   "cell_type": "markdown",
   "id": "eef0e96e-727d-4daf-bd62-6b3b0df098dd",
   "metadata": {},
   "source": [
    "## The head and tail Methods\n",
    "- The _head_ method returns a number of rows from the top/beginning of the _Series_.\n",
    "- The _tail_ returns a number of rows from the bottom/end of the _Series_."
   ]
  },
  {
   "cell_type": "code",
   "execution_count": 26,
   "id": "b6f5d0ee-8428-4435-990e-7498a30b1e67",
   "metadata": {},
   "outputs": [],
   "source": [
    "import pandas as pd"
   ]
  },
  {
   "cell_type": "code",
   "execution_count": 56,
   "id": "1383112d-a82a-4cff-b93f-e2022c45627b",
   "metadata": {},
   "outputs": [
    {
     "data": {
      "text/plain": [
       "0                  Bulbasaur\n",
       "1                    Ivysaur\n",
       "2                   Venusaur\n",
       "3      VenusaurMega Venusaur\n",
       "4                 Charmander\n",
       "               ...          \n",
       "795                  Diancie\n",
       "796      DiancieMega Diancie\n",
       "797      HoopaHoopa Confined\n",
       "798       HoopaHoopa Unbound\n",
       "799                Volcanion\n",
       "Name: Name, Length: 800, dtype: object"
      ]
     },
     "execution_count": 56,
     "metadata": {},
     "output_type": "execute_result"
    }
   ],
   "source": [
    "pokemon = pd.read_csv(\"Pokemon (2).csv\", usecols=['Name']).squeeze(\"columns\")\n",
    "pokemon"
   ]
  },
  {
   "cell_type": "code",
   "execution_count": 58,
   "id": "a489bf36-ea3d-406d-9831-b4f0838db658",
   "metadata": {},
   "outputs": [
    {
     "data": {
      "text/plain": [
       "0                Bulbasaur\n",
       "1                  Ivysaur\n",
       "2                 Venusaur\n",
       "3    VenusaurMega Venusaur\n",
       "4               Charmander\n",
       "Name: Name, dtype: object"
      ]
     },
     "execution_count": 58,
     "metadata": {},
     "output_type": "execute_result"
    }
   ],
   "source": [
    "pokemon.head()"
   ]
  },
  {
   "cell_type": "code",
   "execution_count": 60,
   "id": "b085c603-547b-432f-afc7-2b1dd876c02e",
   "metadata": {},
   "outputs": [
    {
     "data": {
      "text/plain": [
       "0                Bulbasaur\n",
       "1                  Ivysaur\n",
       "2                 Venusaur\n",
       "3    VenusaurMega Venusaur\n",
       "4               Charmander\n",
       "Name: Name, dtype: object"
      ]
     },
     "execution_count": 60,
     "metadata": {},
     "output_type": "execute_result"
    }
   ],
   "source": [
    "pokemon.head(5)"
   ]
  },
  {
   "cell_type": "code",
   "execution_count": 62,
   "id": "1cadffde-1bd4-451b-925b-638458df69d5",
   "metadata": {},
   "outputs": [
    {
     "data": {
      "text/plain": [
       "0                    Bulbasaur\n",
       "1                      Ivysaur\n",
       "2                     Venusaur\n",
       "3        VenusaurMega Venusaur\n",
       "4                   Charmander\n",
       "5                   Charmeleon\n",
       "6                    Charizard\n",
       "7    CharizardMega Charizard X\n",
       "Name: Name, dtype: object"
      ]
     },
     "execution_count": 62,
     "metadata": {},
     "output_type": "execute_result"
    }
   ],
   "source": [
    "pokemon.head(8)"
   ]
  },
  {
   "cell_type": "code",
   "execution_count": 64,
   "id": "9543834b-2b28-4c8f-a5a1-07348ee488c8",
   "metadata": {},
   "outputs": [
    {
     "data": {
      "text/plain": [
       "795                Diancie\n",
       "796    DiancieMega Diancie\n",
       "797    HoopaHoopa Confined\n",
       "798     HoopaHoopa Unbound\n",
       "799              Volcanion\n",
       "Name: Name, dtype: object"
      ]
     },
     "execution_count": 64,
     "metadata": {},
     "output_type": "execute_result"
    }
   ],
   "source": [
    "pokemon.tail()"
   ]
  },
  {
   "cell_type": "code",
   "execution_count": 66,
   "id": "c49175c3-09a2-4108-9a15-a8a5583b561f",
   "metadata": {},
   "outputs": [
    {
     "data": {
      "text/plain": [
       "792                Xerneas\n",
       "793                Yveltal\n",
       "794       Zygarde50% Forme\n",
       "795                Diancie\n",
       "796    DiancieMega Diancie\n",
       "797    HoopaHoopa Confined\n",
       "798     HoopaHoopa Unbound\n",
       "799              Volcanion\n",
       "Name: Name, dtype: object"
      ]
     },
     "execution_count": 66,
     "metadata": {},
     "output_type": "execute_result"
    }
   ],
   "source": [
    "pokemon.tail(8)"
   ]
  },
  {
   "cell_type": "code",
   "execution_count": 68,
   "id": "acf27805-1374-4acd-8d8c-205448750ee0",
   "metadata": {},
   "outputs": [
    {
     "data": {
      "text/plain": [
       "795                Diancie\n",
       "796    DiancieMega Diancie\n",
       "797    HoopaHoopa Confined\n",
       "798     HoopaHoopa Unbound\n",
       "799              Volcanion\n",
       "Name: Name, dtype: object"
      ]
     },
     "execution_count": 68,
     "metadata": {},
     "output_type": "execute_result"
    }
   ],
   "source": [
    "pokemon.tail(n=5)"
   ]
  },
  {
   "cell_type": "code",
   "execution_count": null,
   "id": "1aef7437-8552-41e1-8e42-73f151e483f3",
   "metadata": {},
   "outputs": [],
   "source": []
  }
 ],
 "metadata": {
  "kernelspec": {
   "display_name": "Python 3 (ipykernel)",
   "language": "python",
   "name": "python3"
  },
  "language_info": {
   "codemirror_mode": {
    "name": "ipython",
    "version": 3
   },
   "file_extension": ".py",
   "mimetype": "text/x-python",
   "name": "python",
   "nbconvert_exporter": "python",
   "pygments_lexer": "ipython3",
   "version": "3.12.7"
  }
 },
 "nbformat": 4,
 "nbformat_minor": 5
}
