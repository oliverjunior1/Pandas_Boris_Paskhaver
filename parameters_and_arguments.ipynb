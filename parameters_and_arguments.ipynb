{
 "cells": [
  {
   "cell_type": "markdown",
   "id": "d02d18a4-559a-4f4a-a7b8-78a7a5ae5113",
   "metadata": {},
   "source": [
    "## Parameters and Arguments\n",
    "- A __parameter__ is the name for an expected input to a function/method/class instantiation.\n",
    "- An __argument__ is the concrete value we provide for a parameter during invacation."
   ]
  },
  {
   "cell_type": "code",
   "execution_count": 7,
   "id": "433f7542-5d13-4b0f-aab4-1299cc41f785",
   "metadata": {},
   "outputs": [],
   "source": [
    "import pandas as pd"
   ]
  },
  {
   "cell_type": "code",
   "execution_count": 3,
   "id": "3167bfd9-c1c3-4202-b10a-7b81904089c5",
   "metadata": {},
   "outputs": [],
   "source": [
    "fruits = ['Apple', 'Orange', 'Plum', 'Grape', 'Blueberry', 'Watermelon']\n",
    "weekdays = ['Monday', 'Tuesday', 'Wednesday', 'Thustday', 'Friday', 'Monday']"
   ]
  },
  {
   "cell_type": "code",
   "execution_count": 15,
   "id": "2d0edcd0-b006-435a-87ee-cafd02df7626",
   "metadata": {},
   "outputs": [
    {
     "data": {
      "text/plain": [
       "Apple            Monday\n",
       "Orange          Tuesday\n",
       "Plum          Wednesday\n",
       "Grape          Thustday\n",
       "Blueberry        Friday\n",
       "Watermelon       Monday\n",
       "dtype: object"
      ]
     },
     "execution_count": 15,
     "metadata": {},
     "output_type": "execute_result"
    }
   ],
   "source": [
    "pd.Series(fruits)\n",
    "pd.Series(weekdays)\n",
    "pd.Series(fruits, weekdays)\n",
    "pd.Series(weekdays, fruits)"
   ]
  },
  {
   "cell_type": "code",
   "execution_count": 26,
   "id": "7ef234a5-4318-4932-9bd6-c64d7a730f94",
   "metadata": {},
   "outputs": [
    {
     "data": {
      "text/plain": [
       "Monday            Apple\n",
       "Tuesday          Orange\n",
       "Wednesday          Plum\n",
       "Thustday          Grape\n",
       "Friday        Blueberry\n",
       "Monday       Watermelon\n",
       "dtype: object"
      ]
     },
     "execution_count": 26,
     "metadata": {},
     "output_type": "execute_result"
    }
   ],
   "source": [
    "pd.Series(data=fruits, index=weekdays)\n",
    "pd.Series(index=weekdays, data=fruits)"
   ]
  },
  {
   "cell_type": "code",
   "execution_count": 28,
   "id": "7411d970-44cd-43bd-9c88-ecae19d09764",
   "metadata": {},
   "outputs": [
    {
     "data": {
      "text/plain": [
       "Monday            Apple\n",
       "Tuesday          Orange\n",
       "Wednesday          Plum\n",
       "Thustday          Grape\n",
       "Friday        Blueberry\n",
       "Monday       Watermelon\n",
       "dtype: object"
      ]
     },
     "execution_count": 28,
     "metadata": {},
     "output_type": "execute_result"
    }
   ],
   "source": [
    "pd.Series(fruits, index=weekdays)"
   ]
  },
  {
   "cell_type": "code",
   "execution_count": 30,
   "id": "bca13640-5304-45df-99c2-7a0b2907b33e",
   "metadata": {},
   "outputs": [
    {
     "data": {
      "text/plain": [
       "Series([], dtype: object)"
      ]
     },
     "execution_count": 30,
     "metadata": {},
     "output_type": "execute_result"
    }
   ],
   "source": [
    "pd.Series()"
   ]
  },
  {
   "cell_type": "code",
   "execution_count": null,
   "id": "35c22e78-41a9-4c0e-a94b-9e1e1d519fd9",
   "metadata": {},
   "outputs": [],
   "source": []
  }
 ],
 "metadata": {
  "kernelspec": {
   "display_name": "Python 3 (ipykernel)",
   "language": "python",
   "name": "python3"
  },
  "language_info": {
   "codemirror_mode": {
    "name": "ipython",
    "version": 3
   },
   "file_extension": ".py",
   "mimetype": "text/x-python",
   "name": "python",
   "nbconvert_exporter": "python",
   "pygments_lexer": "ipython3",
   "version": "3.12.7"
  }
 },
 "nbformat": 4,
 "nbformat_minor": 5
}
