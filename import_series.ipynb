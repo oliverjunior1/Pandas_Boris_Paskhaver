{
 "cells": [
  {
   "cell_type": "markdown",
   "id": "02669028-dadd-4c2f-96d8-10d5649303eb",
   "metadata": {},
   "source": [
    "## Import Series with the pd.read_csv Function\n",
    "- A __CSV__ is a plain text file that uses line breaks to separate rows and commas to separate row values.\n",
    "- Pandas ships with many different read_ functions for different types of files.\n",
    "- The read_csv function accepts many different parameters. The fist one specifies the file name/path.\n",
    "- The read_csv function will import the dataset as a __Dataframe__, a 2-dimensional table.\n",
    "- The usecols parameter accepts a list of the column(s) to import.\n",
    "- The squeeze method convers a __Dataframe__ to a __Series__."
   ]
  },
  {
   "cell_type": "code",
   "execution_count": 16,
   "id": "8509d347-35d4-4cbc-9780-4ab9a67a461d",
   "metadata": {},
   "outputs": [],
   "source": [
    "import pandas as pd"
   ]
  },
  {
   "cell_type": "code",
   "execution_count": 18,
   "id": "ddb88ef7-80b2-44c6-a254-50bc22ba0bd7",
   "metadata": {},
   "outputs": [
    {
     "data": {
      "text/plain": [
       "0                  Bulbasaur\n",
       "1                    Ivysaur\n",
       "2                   Venusaur\n",
       "3      VenusaurMega Venusaur\n",
       "4                 Charmander\n",
       "               ...          \n",
       "795                  Diancie\n",
       "796      DiancieMega Diancie\n",
       "797      HoopaHoopa Confined\n",
       "798       HoopaHoopa Unbound\n",
       "799                Volcanion\n",
       "Name: Name, Length: 800, dtype: object"
      ]
     },
     "execution_count": 18,
     "metadata": {},
     "output_type": "execute_result"
    }
   ],
   "source": [
    "pokemon =pd.read_csv('Pokemon (2).csv', usecols=['Name']).squeeze('columns')\n",
    "pokemon"
   ]
  },
  {
   "cell_type": "code",
   "execution_count": 64,
   "id": "ca493e42-57d2-4b57-b821-ec141f032744",
   "metadata": {},
   "outputs": [
    {
     "data": {
      "text/html": [
       "<div>\n",
       "<style scoped>\n",
       "    .dataframe tbody tr th:only-of-type {\n",
       "        vertical-align: middle;\n",
       "    }\n",
       "\n",
       "    .dataframe tbody tr th {\n",
       "        vertical-align: top;\n",
       "    }\n",
       "\n",
       "    .dataframe thead th {\n",
       "        text-align: right;\n",
       "    }\n",
       "</style>\n",
       "<table border=\"1\" class=\"dataframe\">\n",
       "  <thead>\n",
       "    <tr style=\"text-align: right;\">\n",
       "      <th></th>\n",
       "      <th>Name</th>\n",
       "    </tr>\n",
       "  </thead>\n",
       "  <tbody>\n",
       "    <tr>\n",
       "      <th>0</th>\n",
       "      <td>Bulbasaur</td>\n",
       "    </tr>\n",
       "    <tr>\n",
       "      <th>1</th>\n",
       "      <td>Ivysaur</td>\n",
       "    </tr>\n",
       "    <tr>\n",
       "      <th>2</th>\n",
       "      <td>Venusaur</td>\n",
       "    </tr>\n",
       "    <tr>\n",
       "      <th>3</th>\n",
       "      <td>VenusaurMega Venusaur</td>\n",
       "    </tr>\n",
       "    <tr>\n",
       "      <th>4</th>\n",
       "      <td>Charmander</td>\n",
       "    </tr>\n",
       "    <tr>\n",
       "      <th>...</th>\n",
       "      <td>...</td>\n",
       "    </tr>\n",
       "    <tr>\n",
       "      <th>795</th>\n",
       "      <td>Diancie</td>\n",
       "    </tr>\n",
       "    <tr>\n",
       "      <th>796</th>\n",
       "      <td>DiancieMega Diancie</td>\n",
       "    </tr>\n",
       "    <tr>\n",
       "      <th>797</th>\n",
       "      <td>HoopaHoopa Confined</td>\n",
       "    </tr>\n",
       "    <tr>\n",
       "      <th>798</th>\n",
       "      <td>HoopaHoopa Unbound</td>\n",
       "    </tr>\n",
       "    <tr>\n",
       "      <th>799</th>\n",
       "      <td>Volcanion</td>\n",
       "    </tr>\n",
       "  </tbody>\n",
       "</table>\n",
       "<p>800 rows × 1 columns</p>\n",
       "</div>"
      ],
      "text/plain": [
       "                      Name\n",
       "0                Bulbasaur\n",
       "1                  Ivysaur\n",
       "2                 Venusaur\n",
       "3    VenusaurMega Venusaur\n",
       "4               Charmander\n",
       "..                     ...\n",
       "795                Diancie\n",
       "796    DiancieMega Diancie\n",
       "797    HoopaHoopa Confined\n",
       "798     HoopaHoopa Unbound\n",
       "799              Volcanion\n",
       "\n",
       "[800 rows x 1 columns]"
      ]
     },
     "execution_count": 64,
     "metadata": {},
     "output_type": "execute_result"
    }
   ],
   "source": [
    "pokemon2 = pd.read_csv('Pokemon (2).csv', usecols=['Name'])\n",
    "pokemon2"
   ]
  },
  {
   "cell_type": "code",
   "execution_count": null,
   "id": "a64b8c0f-1bac-4edd-b4f7-11a447f76c75",
   "metadata": {},
   "outputs": [],
   "source": []
  }
 ],
 "metadata": {
  "kernelspec": {
   "display_name": "Python 3 (ipykernel)",
   "language": "python",
   "name": "python3"
  },
  "language_info": {
   "codemirror_mode": {
    "name": "ipython",
    "version": 3
   },
   "file_extension": ".py",
   "mimetype": "text/x-python",
   "name": "python",
   "nbconvert_exporter": "python",
   "pygments_lexer": "ipython3",
   "version": "3.12.7"
  }
 },
 "nbformat": 4,
 "nbformat_minor": 5
}
